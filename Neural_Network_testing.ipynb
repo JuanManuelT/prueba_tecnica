{
  "cells": [
    {
      "cell_type": "code",
      "execution_count": 1,
      "metadata": {
        "id": "568Xg3s4nY8F"
      },
      "outputs": [
        {
          "name": "stdout",
          "output_type": "stream",
          "text": [
            "WARNING:tensorflow:From c:\\Users\\user\\Desktop\\prueba_tecnica\\venv\\lib\\site-packages\\keras\\src\\losses.py:2976: The name tf.losses.sparse_softmax_cross_entropy is deprecated. Please use tf.compat.v1.losses.sparse_softmax_cross_entropy instead.\n",
            "\n",
            "WARNING:tensorflow:From c:\\Users\\user\\Desktop\\prueba_tecnica\\venv\\lib\\site-packages\\keras\\src\\backend.py:1398: The name tf.executing_eagerly_outside_functions is deprecated. Please use tf.compat.v1.executing_eagerly_outside_functions instead.\n",
            "\n",
            "1/1 [==============================] - 0s 99ms/step\n",
            "User Input: hello world\n",
            "Predicted Label: truthful\n"
          ]
        }
      ],
      "source": [
        "from tensorflow.keras.models import load_model\n",
        "import numpy as np\n",
        "import warnings\n",
        "import joblib\n",
        "warnings.filterwarnings(\"ignore\")\n",
        "\n",
        "# Loades Neural Network saved model\n",
        "loaded_model = load_model(\"lie_detection_model.h5\")\n",
        "\n",
        "# Loades the CountVectorizer saved file\n",
        "count_vector = joblib.load('count_vectorizer_nn.joblib')\n",
        "\n",
        "# Loades the label_encoder saved file\n",
        "label_encoder = joblib.load('label_encoder.joblib')\n",
        "\n",
        "\n",
        "# Practical Test:\n",
        "user_input = input(\"Your text goes here\")\n",
        "\n",
        "\n",
        "# User Input processing using the same preprocessing steps applied to the data training\n",
        "user_input_count = count_vector.transform([user_input])\n",
        "user_input_dense = user_input_count.toarray()\n",
        "\n",
        "# Predict using the loaded model\n",
        "prediction = loaded_model.predict(user_input_dense)\n",
        "\n",
        "# Prediction conversion to a binary label (0 or 1) based on a threshold (0.5 as Default)\n",
        "binary_prediction = (prediction > 0.5).astype(int)\n",
        "\n",
        "binary_prediction = np.squeeze(binary_prediction)\n",
        "\n",
        "binary_prediction = np.atleast_1d(binary_prediction)\n",
        "\n",
        "# Binary label decoding using label encoder\n",
        "decoded_prediction = label_encoder.inverse_transform(binary_prediction)[0]\n",
        "\n",
        "print(\"User Input:\", user_input)\n",
        "print(\"Predicted Label:\", decoded_prediction)\n"
      ]
    }
  ],
  "metadata": {
    "colab": {
      "provenance": []
    },
    "kernelspec": {
      "display_name": "Python 3",
      "name": "python3"
    },
    "language_info": {
      "codemirror_mode": {
        "name": "ipython",
        "version": 3
      },
      "file_extension": ".py",
      "mimetype": "text/x-python",
      "name": "python",
      "nbconvert_exporter": "python",
      "pygments_lexer": "ipython3",
      "version": "3.9.2"
    }
  },
  "nbformat": 4,
  "nbformat_minor": 0
}
