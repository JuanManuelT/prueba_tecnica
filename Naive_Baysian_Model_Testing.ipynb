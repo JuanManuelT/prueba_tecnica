{
  "cells": [
    {
      "cell_type": "markdown",
      "metadata": {
        "id": "qHfMidzF6iWO"
      },
      "source": [
        "**Importing Libraries**"
      ]
    },
    {
      "cell_type": "code",
      "execution_count": 1,
      "metadata": {
        "id": "1ziZUMpopgM1"
      },
      "outputs": [],
      "source": [
        "from sklearn.naive_bayes import MultinomialNB\n",
        "from sklearn.feature_extraction.text import CountVectorizer\n",
        "import joblib"
      ]
    },
    {
      "cell_type": "markdown",
      "metadata": {
        "id": "z_PKzoJN6pI9"
      },
      "source": [
        "**Models Load**"
      ]
    },
    {
      "cell_type": "code",
      "execution_count": 2,
      "metadata": {
        "colab": {
          "base_uri": "https://localhost:8080/"
        },
        "id": "Zj4rEs3SpkVh",
        "outputId": "6d63ec9d-2811-433a-8f0e-c605021b910e"
      },
      "outputs": [],
      "source": [
        "# Pre-trained models\n",
        "naive_bayes = joblib.load('naive_bayes_model.joblib')\n",
        "count_vectorizer = joblib.load('count_vectorizer.joblib')\n"
      ]
    },
    {
      "cell_type": "markdown",
      "metadata": {
        "id": "Se4Uvenc7CQL"
      },
      "source": [
        "**Creating Predictions**"
      ]
    },
    {
      "cell_type": "code",
      "execution_count": 3,
      "metadata": {
        "id": "N3urpMhx6yzl"
      },
      "outputs": [],
      "source": [
        "def make_prediction(user_input):\n",
        "    my_test_data = count_vectorizer.transform([user_input])\n",
        "    prediction = naive_bayes.predict(my_test_data)[0]\n",
        "    if prediction == 0:\n",
        "        prediction_category = \"Lie\"\n",
        "    else:\n",
        "        prediction_category = \"Truth\"\n",
        "    return prediction_category\n"
      ]
    },
    {
      "cell_type": "code",
      "execution_count": 4,
      "metadata": {
        "colab": {
          "base_uri": "https://localhost:8080/"
        },
        "id": "U52M-zHF606t",
        "outputId": "3d1abdbb-29c5-4ffd-d559-3467f91f339c"
      },
      "outputs": [
        {
          "name": "stdout",
          "output_type": "stream",
          "text": [
            "Input: hello world\n",
            "Prediction: Truth\n"
          ]
        }
      ],
      "source": [
        "if __name__ == '__main__':\n",
        "    # Model Practical Use\n",
        "    user_input = input(\"Enter some text: \")\n",
        "\n",
        "    # Prediction\n",
        "    prediction_category = make_prediction(user_input)\n",
        "\n",
        "    # Prediction Result\n",
        "    print(f\"Input: {user_input}\")\n",
        "    print(f\"Prediction: {prediction_category}\")"
      ]
    }
  ],
  "metadata": {
    "colab": {
      "provenance": []
    },
    "kernelspec": {
      "display_name": "Python 3",
      "name": "python3"
    },
    "language_info": {
      "codemirror_mode": {
        "name": "ipython",
        "version": 3
      },
      "file_extension": ".py",
      "mimetype": "text/x-python",
      "name": "python",
      "nbconvert_exporter": "python",
      "pygments_lexer": "ipython3",
      "version": "3.9.2"
    }
  },
  "nbformat": 4,
  "nbformat_minor": 0
}
