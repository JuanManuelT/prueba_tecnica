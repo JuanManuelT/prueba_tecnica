{
  "cells": [
    {
      "cell_type": "markdown",
      "metadata": {
        "id": "GJmHbMcEtciD"
      },
      "source": [
        "**Import Required Libraries**"
      ]
    },
    {
      "cell_type": "code",
      "execution_count": 1,
      "metadata": {
        "id": "NscfHiCdiO7_"
      },
      "outputs": [
        {
          "name": "stderr",
          "output_type": "stream",
          "text": [
            "C:\\Users\\user\\AppData\\Local\\Temp\\ipykernel_19140\\220067361.py:2: DeprecationWarning: \n",
            "Pyarrow will become a required dependency of pandas in the next major release of pandas (pandas 3.0),\n",
            "(to allow more performant data types, such as the Arrow string type, and better interoperability with other libraries)\n",
            "but was not found to be installed on your system.\n",
            "If this would cause problems for you,\n",
            "please provide us feedback at https://github.com/pandas-dev/pandas/issues/54466\n",
            "        \n",
            "  import pandas as pd\n"
          ]
        },
        {
          "name": "stdout",
          "output_type": "stream",
          "text": [
            "WARNING:tensorflow:From c:\\Users\\user\\Desktop\\prueba_tecnica\\venv\\lib\\site-packages\\keras\\src\\losses.py:2976: The name tf.losses.sparse_softmax_cross_entropy is deprecated. Please use tf.compat.v1.losses.sparse_softmax_cross_entropy instead.\n",
            "\n"
          ]
        }
      ],
      "source": [
        "import numpy as np\n",
        "import pandas as pd\n",
        "import tensorflow as tf\n",
        "from tensorflow.keras.models import Sequential\n",
        "from tensorflow.keras.layers import Dense, Embedding, Flatten, Dropout\n",
        "import warnings\n",
        "warnings.filterwarnings(\"ignore\")\n",
        "import joblib\n",
        "import os\n",
        "for dirname, _, filenames in os.walk('/deceptive-opinion.csv'):\n",
        "    for filename in filenames:\n",
        "        print(os.path.join(dirname, filename))\n"
      ]
    },
    {
      "cell_type": "code",
      "execution_count": 2,
      "metadata": {
        "colab": {
          "base_uri": "https://localhost:8080/"
        },
        "id": "IYvn2r8yk71Y",
        "outputId": "eaa5422e-6433-4dd6-a26b-ffd5da8c556c"
      },
      "outputs": [
        {
          "name": "stderr",
          "output_type": "stream",
          "text": [
            "[nltk_data] Downloading package stopwords to\n",
            "[nltk_data]     C:\\Users\\user\\AppData\\Roaming\\nltk_data...\n",
            "[nltk_data]   Package stopwords is already up-to-date!\n"
          ]
        },
        {
          "data": {
            "text/plain": [
              "True"
            ]
          },
          "execution_count": 2,
          "metadata": {},
          "output_type": "execute_result"
        }
      ],
      "source": [
        "import re\n",
        "import string\n",
        "from nltk.corpus import stopwords\n",
        "import nltk\n",
        "from nltk.corpus import stopwords\n",
        "from nltk.stem import SnowballStemmer\n",
        "nltk.download('stopwords')"
      ]
    },
    {
      "cell_type": "markdown",
      "metadata": {
        "id": "Zwov3t3Xtjjr"
      },
      "source": [
        "**Data Check and Exploration**"
      ]
    },
    {
      "cell_type": "code",
      "execution_count": 3,
      "metadata": {
        "id": "EiH4UJhYk-Ji"
      },
      "outputs": [],
      "source": [
        "df = pd.read_csv('deceptive-opinion.csv')"
      ]
    },
    {
      "cell_type": "code",
      "execution_count": 4,
      "metadata": {
        "colab": {
          "base_uri": "https://localhost:8080/",
          "height": 206
        },
        "id": "UNLhQxynlAPc",
        "outputId": "e069b496-372c-4f62-d483-bfd2ca77e04b"
      },
      "outputs": [
        {
          "data": {
            "text/html": [
              "<div>\n",
              "<style scoped>\n",
              "    .dataframe tbody tr th:only-of-type {\n",
              "        vertical-align: middle;\n",
              "    }\n",
              "\n",
              "    .dataframe tbody tr th {\n",
              "        vertical-align: top;\n",
              "    }\n",
              "\n",
              "    .dataframe thead th {\n",
              "        text-align: right;\n",
              "    }\n",
              "</style>\n",
              "<table border=\"1\" class=\"dataframe\">\n",
              "  <thead>\n",
              "    <tr style=\"text-align: right;\">\n",
              "      <th></th>\n",
              "      <th>deceptive</th>\n",
              "      <th>hotel</th>\n",
              "      <th>polarity</th>\n",
              "      <th>source</th>\n",
              "      <th>text</th>\n",
              "    </tr>\n",
              "  </thead>\n",
              "  <tbody>\n",
              "    <tr>\n",
              "      <th>0</th>\n",
              "      <td>truthful</td>\n",
              "      <td>conrad</td>\n",
              "      <td>positive</td>\n",
              "      <td>TripAdvisor</td>\n",
              "      <td>We stayed for a one night getaway with family ...</td>\n",
              "    </tr>\n",
              "    <tr>\n",
              "      <th>1</th>\n",
              "      <td>truthful</td>\n",
              "      <td>hyatt</td>\n",
              "      <td>positive</td>\n",
              "      <td>TripAdvisor</td>\n",
              "      <td>Triple A rate with upgrade to view room was le...</td>\n",
              "    </tr>\n",
              "    <tr>\n",
              "      <th>2</th>\n",
              "      <td>truthful</td>\n",
              "      <td>hyatt</td>\n",
              "      <td>positive</td>\n",
              "      <td>TripAdvisor</td>\n",
              "      <td>This comes a little late as I'm finally catchi...</td>\n",
              "    </tr>\n",
              "    <tr>\n",
              "      <th>3</th>\n",
              "      <td>truthful</td>\n",
              "      <td>omni</td>\n",
              "      <td>positive</td>\n",
              "      <td>TripAdvisor</td>\n",
              "      <td>The Omni Chicago really delivers on all fronts...</td>\n",
              "    </tr>\n",
              "    <tr>\n",
              "      <th>4</th>\n",
              "      <td>truthful</td>\n",
              "      <td>hyatt</td>\n",
              "      <td>positive</td>\n",
              "      <td>TripAdvisor</td>\n",
              "      <td>I asked for a high floor away from the elevato...</td>\n",
              "    </tr>\n",
              "  </tbody>\n",
              "</table>\n",
              "</div>"
            ],
            "text/plain": [
              "  deceptive   hotel  polarity       source  \\\n",
              "0  truthful  conrad  positive  TripAdvisor   \n",
              "1  truthful   hyatt  positive  TripAdvisor   \n",
              "2  truthful   hyatt  positive  TripAdvisor   \n",
              "3  truthful    omni  positive  TripAdvisor   \n",
              "4  truthful   hyatt  positive  TripAdvisor   \n",
              "\n",
              "                                                text  \n",
              "0  We stayed for a one night getaway with family ...  \n",
              "1  Triple A rate with upgrade to view room was le...  \n",
              "2  This comes a little late as I'm finally catchi...  \n",
              "3  The Omni Chicago really delivers on all fronts...  \n",
              "4  I asked for a high floor away from the elevato...  "
            ]
          },
          "execution_count": 4,
          "metadata": {},
          "output_type": "execute_result"
        }
      ],
      "source": [
        "df.head()"
      ]
    },
    {
      "cell_type": "code",
      "execution_count": 5,
      "metadata": {
        "id": "MzfJiqT_lAST"
      },
      "outputs": [],
      "source": [
        "df = df.sample(frac=1)"
      ]
    },
    {
      "cell_type": "code",
      "execution_count": 6,
      "metadata": {
        "colab": {
          "base_uri": "https://localhost:8080/"
        },
        "id": "o6t8DLdClAU1",
        "outputId": "1203817d-09ee-44db-d87c-fe89d82f9098"
      },
      "outputs": [
        {
          "data": {
            "text/plain": [
              "array([1, 0])"
            ]
          },
          "execution_count": 6,
          "metadata": {},
          "output_type": "execute_result"
        }
      ],
      "source": [
        "from sklearn import preprocessing\n",
        "\n",
        "label_encoder = preprocessing.LabelEncoder()\n",
        "\n",
        "df['deceptive']= label_encoder.fit_transform(df['deceptive'])\n",
        "\n",
        "df['deceptive'].unique()"
      ]
    },
    {
      "cell_type": "code",
      "execution_count": 7,
      "metadata": {
        "colab": {
          "base_uri": "https://localhost:8080/",
          "height": 420
        },
        "id": "g_gE96sAlAWq",
        "outputId": "aa47e786-4ef5-44b9-eda8-293aff8ceeaa"
      },
      "outputs": [
        {
          "data": {
            "text/html": [
              "<div>\n",
              "<style scoped>\n",
              "    .dataframe tbody tr th:only-of-type {\n",
              "        vertical-align: middle;\n",
              "    }\n",
              "\n",
              "    .dataframe tbody tr th {\n",
              "        vertical-align: top;\n",
              "    }\n",
              "\n",
              "    .dataframe thead tr th {\n",
              "        text-align: left;\n",
              "    }\n",
              "\n",
              "    .dataframe thead tr:last-of-type th {\n",
              "        text-align: right;\n",
              "    }\n",
              "</style>\n",
              "<table border=\"1\" class=\"dataframe\">\n",
              "  <thead>\n",
              "    <tr>\n",
              "      <th></th>\n",
              "      <th colspan=\"4\" halign=\"left\">hotel</th>\n",
              "      <th colspan=\"4\" halign=\"left\">polarity</th>\n",
              "      <th colspan=\"4\" halign=\"left\">source</th>\n",
              "      <th colspan=\"4\" halign=\"left\">text</th>\n",
              "    </tr>\n",
              "    <tr>\n",
              "      <th></th>\n",
              "      <th>count</th>\n",
              "      <th>unique</th>\n",
              "      <th>top</th>\n",
              "      <th>freq</th>\n",
              "      <th>count</th>\n",
              "      <th>unique</th>\n",
              "      <th>top</th>\n",
              "      <th>freq</th>\n",
              "      <th>count</th>\n",
              "      <th>unique</th>\n",
              "      <th>top</th>\n",
              "      <th>freq</th>\n",
              "      <th>count</th>\n",
              "      <th>unique</th>\n",
              "      <th>top</th>\n",
              "      <th>freq</th>\n",
              "    </tr>\n",
              "    <tr>\n",
              "      <th>deceptive</th>\n",
              "      <th></th>\n",
              "      <th></th>\n",
              "      <th></th>\n",
              "      <th></th>\n",
              "      <th></th>\n",
              "      <th></th>\n",
              "      <th></th>\n",
              "      <th></th>\n",
              "      <th></th>\n",
              "      <th></th>\n",
              "      <th></th>\n",
              "      <th></th>\n",
              "      <th></th>\n",
              "      <th></th>\n",
              "      <th></th>\n",
              "      <th></th>\n",
              "    </tr>\n",
              "  </thead>\n",
              "  <tbody>\n",
              "    <tr>\n",
              "      <th>0</th>\n",
              "      <td>800</td>\n",
              "      <td>20</td>\n",
              "      <td>affinia</td>\n",
              "      <td>40</td>\n",
              "      <td>800</td>\n",
              "      <td>2</td>\n",
              "      <td>negative</td>\n",
              "      <td>400</td>\n",
              "      <td>800</td>\n",
              "      <td>1</td>\n",
              "      <td>MTurk</td>\n",
              "      <td>800</td>\n",
              "      <td>800</td>\n",
              "      <td>800</td>\n",
              "      <td>If you are looking for a high end hotel on the...</td>\n",
              "      <td>1</td>\n",
              "    </tr>\n",
              "    <tr>\n",
              "      <th>1</th>\n",
              "      <td>800</td>\n",
              "      <td>20</td>\n",
              "      <td>conrad</td>\n",
              "      <td>40</td>\n",
              "      <td>800</td>\n",
              "      <td>2</td>\n",
              "      <td>positive</td>\n",
              "      <td>400</td>\n",
              "      <td>800</td>\n",
              "      <td>2</td>\n",
              "      <td>TripAdvisor</td>\n",
              "      <td>400</td>\n",
              "      <td>800</td>\n",
              "      <td>796</td>\n",
              "      <td>I'd been searching for a cool, non-chain hotel...</td>\n",
              "      <td>2</td>\n",
              "    </tr>\n",
              "  </tbody>\n",
              "</table>\n",
              "</div>"
            ],
            "text/plain": [
              "          hotel                      polarity                       source  \\\n",
              "          count unique      top freq    count unique       top freq  count   \n",
              "deceptive                                                                    \n",
              "0           800     20  affinia   40      800      2  negative  400    800   \n",
              "1           800     20   conrad   40      800      2  positive  400    800   \n",
              "\n",
              "                                    text         \\\n",
              "          unique          top freq count unique   \n",
              "deceptive                                         \n",
              "0              1        MTurk  800   800    800   \n",
              "1              2  TripAdvisor  400   800    796   \n",
              "\n",
              "                                                                   \n",
              "                                                         top freq  \n",
              "deceptive                                                          \n",
              "0          If you are looking for a high end hotel on the...    1  \n",
              "1          I'd been searching for a cool, non-chain hotel...    2  "
            ]
          },
          "execution_count": 7,
          "metadata": {},
          "output_type": "execute_result"
        }
      ],
      "source": [
        "df.groupby('deceptive').describe()"
      ]
    },
    {
      "cell_type": "markdown",
      "metadata": {
        "id": "NsZDRK2DlKGk"
      },
      "source": [
        "**Data Cleaning and standarization**"
      ]
    },
    {
      "cell_type": "code",
      "execution_count": 8,
      "metadata": {
        "id": "1MkiTP-8lAZJ"
      },
      "outputs": [],
      "source": [
        "def clean_text(text):\n",
        "\n",
        "    text = text.translate(string.punctuation)\n",
        "    text = text.lower().split()\n",
        "    stops = set(stopwords.words(\"english\"))\n",
        "    text = [w for w in text if not w in stops and len(w) >= 3]\n",
        "    text = \" \".join(text)\n",
        "\n",
        "    # Data Cleaning\n",
        "    text = re.sub(r\"[^A-Za-z0-9^,!.\\/'+-=]\", \" \", text)\n",
        "    text = re.sub(r\"what's\", \"what is \", text)\n",
        "    text = re.sub(r\"\\'s\", \" \", text)\n",
        "    text = re.sub(r\"\\'ve\", \" have \", text)\n",
        "    text = re.sub(r\"n't\", \" not \", text)\n",
        "    text = re.sub(r\"i'm\", \"i am \", text)\n",
        "    text = re.sub(r\"\\'re\", \" are \", text)\n",
        "    text = re.sub(r\"\\'d\", \" would \", text)\n",
        "    text = re.sub(r\"\\'ll\", \" will \", text)\n",
        "    text = re.sub(r\",\", \" \", text)\n",
        "    text = re.sub(r\"\\.\", \" \", text)\n",
        "    text = re.sub(r\"!\", \" ! \", text)\n",
        "    text = re.sub(r\"\\/\", \" \", text)\n",
        "    text = re.sub(r\"\\^\", \" ^ \", text)\n",
        "    text = re.sub(r\"\\+\", \" + \", text)\n",
        "    text = re.sub(r\"\\-\", \" - \", text)\n",
        "    text = re.sub(r\"\\=\", \" = \", text)\n",
        "    text = re.sub(r\"'\", \" \", text)\n",
        "    text = re.sub(r\"(\\d+)(k)\", r\"\\g<1>000\", text)\n",
        "    text = re.sub(r\":\", \" : \", text)\n",
        "    text = re.sub(r\" e g \", \" eg \", text)\n",
        "    text = re.sub(r\" b g \", \" bg \", text)\n",
        "    text = re.sub(r\" u s \", \" american \", text)\n",
        "    text = re.sub(r\"\\0s\", \"0\", text)\n",
        "    text = re.sub(r\" 9 11 \", \"911\", text)\n",
        "    text = re.sub(r\"e - mail\", \"email\", text)\n",
        "    text = re.sub(r\"j k\", \"jk\", text)\n",
        "    text = re.sub(r\"\\s{2,}\", \" \", text)\n",
        "\n",
        "    text = text.split()\n",
        "    stemmer = SnowballStemmer('english')\n",
        "    stemmed_words = [stemmer.stem(word) for word in text]\n",
        "    text = \" \".join(stemmed_words)\n",
        "\n",
        "    return text"
      ]
    },
    {
      "cell_type": "code",
      "execution_count": 9,
      "metadata": {
        "id": "dnRar2VJlAcj"
      },
      "outputs": [],
      "source": [
        "# Punctuation Cleaning\n",
        "puncts = [',', '.', '\"', ':', ')', '(', '-', '!', '?', '|', ';', \"'\", '$', '&', '/', '[', ']', '>', '%', '=', '#', '*', '+', '\\\\', '•',  '~', '@', '£',\n",
        " '·', '_', '{', '}', '©', '^', '®', '`',  '<', '→', '°', '€', '™', '›',  '♥', '←', '×', '§', '″', '′', 'Â', '█', '½', 'à', '…',\n",
        " '“', '★', '”', '–', '●', 'â', '►', '−', '¢', '²', '¬', '░', '¶', '↑', '±', '¿', '▾', '═', '¦', '║', '―', '¥', '▓', '—', '‹', '─',\n",
        " '▒', '：', '¼', '⊕', '▼', '▪', '†', '■', '’', '▀', '¨', '▄', '♫', '☆', 'é', '¯', '♦', '¤', '▲', 'è', '¸', '¾', 'Ã', '⋅', '‘', '∞',\n",
        " '∙', '）', '↓', '、', '│', '（', '»', '，', '♪', '╩', '╚', '³', '・', '╦', '╣', '╔', '╗', '▬', '❤', 'ï', 'Ø', '¹', '≤', '‡', '√', ]\n",
        "\n",
        "def clean_char(x):\n",
        "    x = str(x)\n",
        "    for punct in puncts:\n",
        "        if punct in x:\n",
        "            x = x.replace(punct, f' {punct} ')\n",
        "    return x"
      ]
    },
    {
      "cell_type": "code",
      "execution_count": 10,
      "metadata": {
        "id": "h7hH3XrLlRsf"
      },
      "outputs": [],
      "source": [
        "def clean_numbers(x):\n",
        "    if bool(re.search(r'\\d', x)):\n",
        "        x = re.sub('[0-9]{5,}', '#####', x)\n",
        "        x = re.sub('[0-9]{4}', '####', x)\n",
        "        x = re.sub('[0-9]{3}', '###', x)\n",
        "        x = re.sub('[0-9]{2}', '##', x)\n",
        "    return x"
      ]
    },
    {
      "cell_type": "code",
      "execution_count": 11,
      "metadata": {
        "id": "ZDzaIS2tlRu_"
      },
      "outputs": [],
      "source": [
        "df['text'] = df['text'].map(lambda a: clean_numbers(a))"
      ]
    },
    {
      "cell_type": "code",
      "execution_count": 12,
      "metadata": {
        "id": "Nq262bvdlRxY"
      },
      "outputs": [],
      "source": [
        "df['text'] = df['text'].map(lambda a: clean_char(a))"
      ]
    },
    {
      "cell_type": "code",
      "execution_count": 13,
      "metadata": {
        "id": "OyXDT7mRlRz0"
      },
      "outputs": [],
      "source": [
        "df['text'] = df['text'].map(lambda a: clean_text(a))"
      ]
    },
    {
      "cell_type": "code",
      "execution_count": 14,
      "metadata": {
        "colab": {
          "base_uri": "https://localhost:8080/"
        },
        "id": "lFGSCsTElR2b",
        "outputId": "eca80faa-26ce-4038-975e-7439e96807d8"
      },
      "outputs": [
        {
          "data": {
            "text/plain": [
              "11      first trip chicago litll worri hotel locat fin...\n",
              "1401    look high end hotel magnific mile affinia chic...\n",
              "1126    husband month old took quick trip chicago stay...\n",
              "894     general speak noth bad place would clean issu ...\n",
              "1236    stay hyatt regenc experi never ever forget goo...\n",
              "                              ...                        \n",
              "1159    stay palmer hous attend confer chicago state b...\n",
              "657     stay weekend visit friend town littl pricey de...\n",
              "1251    stay fairmont chicago millennium park hotel fa...\n",
              "534     stay hilton like live luxuri day never want ba...\n",
              "961     stay night spring break call suit resembl wide...\n",
              "Name: text, Length: 1600, dtype: object"
            ]
          },
          "execution_count": 14,
          "metadata": {},
          "output_type": "execute_result"
        }
      ],
      "source": [
        "df['text']"
      ]
    },
    {
      "cell_type": "code",
      "execution_count": 15,
      "metadata": {
        "colab": {
          "base_uri": "https://localhost:8080/",
          "height": 300
        },
        "id": "SdnrmbnWlR4j",
        "outputId": "432b701b-9758-44d9-802b-c9e28170c3a3"
      },
      "outputs": [
        {
          "data": {
            "text/html": [
              "<div>\n",
              "<style scoped>\n",
              "    .dataframe tbody tr th:only-of-type {\n",
              "        vertical-align: middle;\n",
              "    }\n",
              "\n",
              "    .dataframe tbody tr th {\n",
              "        vertical-align: top;\n",
              "    }\n",
              "\n",
              "    .dataframe thead th {\n",
              "        text-align: right;\n",
              "    }\n",
              "</style>\n",
              "<table border=\"1\" class=\"dataframe\">\n",
              "  <thead>\n",
              "    <tr style=\"text-align: right;\">\n",
              "      <th></th>\n",
              "      <th>deceptive</th>\n",
              "    </tr>\n",
              "  </thead>\n",
              "  <tbody>\n",
              "    <tr>\n",
              "      <th>count</th>\n",
              "      <td>1600.000000</td>\n",
              "    </tr>\n",
              "    <tr>\n",
              "      <th>mean</th>\n",
              "      <td>0.500000</td>\n",
              "    </tr>\n",
              "    <tr>\n",
              "      <th>std</th>\n",
              "      <td>0.500156</td>\n",
              "    </tr>\n",
              "    <tr>\n",
              "      <th>min</th>\n",
              "      <td>0.000000</td>\n",
              "    </tr>\n",
              "    <tr>\n",
              "      <th>25%</th>\n",
              "      <td>0.000000</td>\n",
              "    </tr>\n",
              "    <tr>\n",
              "      <th>50%</th>\n",
              "      <td>0.500000</td>\n",
              "    </tr>\n",
              "    <tr>\n",
              "      <th>75%</th>\n",
              "      <td>1.000000</td>\n",
              "    </tr>\n",
              "    <tr>\n",
              "      <th>max</th>\n",
              "      <td>1.000000</td>\n",
              "    </tr>\n",
              "  </tbody>\n",
              "</table>\n",
              "</div>"
            ],
            "text/plain": [
              "         deceptive\n",
              "count  1600.000000\n",
              "mean      0.500000\n",
              "std       0.500156\n",
              "min       0.000000\n",
              "25%       0.000000\n",
              "50%       0.500000\n",
              "75%       1.000000\n",
              "max       1.000000"
            ]
          },
          "execution_count": 15,
          "metadata": {},
          "output_type": "execute_result"
        }
      ],
      "source": [
        "df.describe()"
      ]
    },
    {
      "cell_type": "code",
      "execution_count": 16,
      "metadata": {
        "colab": {
          "base_uri": "https://localhost:8080/"
        },
        "id": "C2uwUMJ0lR7X",
        "outputId": "8a0dc0a3-6ac6-4f4e-d55a-9dca2d97245d"
      },
      "outputs": [
        {
          "name": "stdout",
          "output_type": "stream",
          "text": [
            "<class 'pandas.core.frame.DataFrame'>\n",
            "Index: 1600 entries, 11 to 961\n",
            "Data columns (total 5 columns):\n",
            " #   Column     Non-Null Count  Dtype \n",
            "---  ------     --------------  ----- \n",
            " 0   deceptive  1600 non-null   int32 \n",
            " 1   hotel      1600 non-null   object\n",
            " 2   polarity   1600 non-null   object\n",
            " 3   source     1600 non-null   object\n",
            " 4   text       1600 non-null   object\n",
            "dtypes: int32(1), object(4)\n",
            "memory usage: 68.8+ KB\n"
          ]
        }
      ],
      "source": [
        "df.info()"
      ]
    },
    {
      "cell_type": "markdown",
      "metadata": {
        "id": "QC5PNqpZlfxg"
      },
      "source": [
        "**Training and Testing Data Split**"
      ]
    },
    {
      "cell_type": "code",
      "execution_count": 17,
      "metadata": {
        "id": "Md1UvBhVlgmx"
      },
      "outputs": [],
      "source": [
        "x = df['text']\n",
        "y = df['deceptive']"
      ]
    },
    {
      "cell_type": "code",
      "execution_count": 18,
      "metadata": {
        "id": "zd-GtckelgpZ"
      },
      "outputs": [],
      "source": [
        "from sklearn.model_selection import train_test_split\n",
        "from sklearn.feature_extraction.text import CountVectorizer, TfidfVectorizer\n",
        "from sklearn.metrics import accuracy_score, confusion_matrix"
      ]
    },
    {
      "cell_type": "code",
      "execution_count": 19,
      "metadata": {
        "colab": {
          "base_uri": "https://localhost:8080/"
        },
        "id": "aX0bMcYHlgsB",
        "outputId": "d0b40015-2c6d-4035-dce7-4bc71d93a944"
      },
      "outputs": [
        {
          "name": "stdout",
          "output_type": "stream",
          "text": [
            "Number of rows in the total set: 1600\n",
            "Number of rows in the training set: 1200\n",
            "Number of rows in the test set: 400\n"
          ]
        }
      ],
      "source": [
        "from sklearn.model_selection import train_test_split\n",
        "\n",
        "X_train, X_test, y_train, y_test = train_test_split(df['text'], df['deceptive'], random_state=5)\n",
        "print('Number of rows in the total set: {}'.format(df.shape[0]))\n",
        "print('Number of rows in the training set: {}'.format(X_train.shape[0]))\n",
        "print('Number of rows in the test set: {}'.format(X_test.shape[0]))"
      ]
    },
    {
      "cell_type": "code",
      "execution_count": 20,
      "metadata": {
        "colab": {
          "base_uri": "https://localhost:8080/"
        },
        "id": "hyp7R0ZdlguZ",
        "outputId": "7e77adf7-219a-4389-9232-2c71d011c654"
      },
      "outputs": [
        {
          "data": {
            "text/plain": [
              "(176     return two night stay affinia chicago visit de...\n",
              " 385     stay night may say hotel except clean modern f...\n",
              " 952     stay sheraton royal orchid hotel bangkok expec...\n",
              " 135     boyfriend amaz breathtak view lake michigan te...\n",
              " 175     excel locat block michigan ave two block water...\n",
              "                               ...                        \n",
              " 852     nice big room stinki mildew hallway fair room ...\n",
              " 831     son join husband work trip plan swim work over...\n",
              " 91      love hotel fabul old build first class modern ...\n",
              " 1168    check room empti beer bottl dirti underwear cl...\n",
              " 544     compani host seminar millennium knickerbock ho...\n",
              " Name: text, Length: 1200, dtype: object,\n",
              " 919     book thru hotwir high percentag posit outcom h...\n",
              " 8       arriv omni 2nd septemb day stay took ill left ...\n",
              " 1304    realli high hope homewood suit stay week long ...\n",
              " 772     fiance look modern upscal venu wed recept foun...\n",
              " 963     stay affinia one night purpos drive way suburb...\n",
              "                               ...                        \n",
              " 1097    got spank deal hotel night good locat loop exc...\n",
              " 1053    call edit exist reserv place hold minut final ...\n",
              " 38      nestl beaten path two block river fairmont chi...\n",
              " 1023    much complain see review post site talbott pro...\n",
              " 1355    recent chicago busi chose stay swissotel chica...\n",
              " Name: text, Length: 400, dtype: object,\n",
              " 176     1\n",
              " 385     1\n",
              " 952     1\n",
              " 135     1\n",
              " 175     1\n",
              "        ..\n",
              " 852     1\n",
              " 831     1\n",
              " 91      1\n",
              " 1168    1\n",
              " 544     0\n",
              " Name: deceptive, Length: 1200, dtype: int32,\n",
              " 919     1\n",
              " 8       1\n",
              " 1304    0\n",
              " 772     0\n",
              " 963     1\n",
              "        ..\n",
              " 1097    1\n",
              " 1053    1\n",
              " 38      1\n",
              " 1023    1\n",
              " 1355    0\n",
              " Name: deceptive, Length: 400, dtype: int32)"
            ]
          },
          "execution_count": 20,
          "metadata": {},
          "output_type": "execute_result"
        }
      ],
      "source": [
        "X_train, X_test, y_train, y_test"
      ]
    },
    {
      "cell_type": "markdown",
      "metadata": {
        "id": "9VuMButGl0cG"
      },
      "source": [
        "**Text Vectorization**"
      ]
    },
    {
      "cell_type": "code",
      "execution_count": 21,
      "metadata": {
        "colab": {
          "base_uri": "https://localhost:8080/"
        },
        "id": "sUrBPr_Xlgxu",
        "outputId": "59bd9332-754f-409c-ccc4-2df4519c91f7"
      },
      "outputs": [
        {
          "name": "stdout",
          "output_type": "stream",
          "text": [
            "CountVectorizer()\n"
          ]
        }
      ],
      "source": [
        "from sklearn.feature_extraction.text import CountVectorizer\n",
        "count_vector = CountVectorizer()\n",
        "print(count_vector)"
      ]
    },
    {
      "cell_type": "code",
      "execution_count": 22,
      "metadata": {
        "id": "-Qu1nRBKl54E"
      },
      "outputs": [],
      "source": [
        "training_data = count_vector.fit_transform(X_train)\n",
        "testing_data = count_vector.transform(X_test)"
      ]
    },
    {
      "cell_type": "markdown",
      "metadata": {
        "id": "AcjXmJRvmTx5"
      },
      "source": [
        "**Data Transform**"
      ]
    },
    {
      "cell_type": "code",
      "execution_count": 23,
      "metadata": {
        "id": "PGt21RD3nZdI"
      },
      "outputs": [],
      "source": [
        "# Sparse matrices convertion into dense NumPy arrays\n",
        "X_train_dense = training_data.toarray()\n",
        "X_test_dense = testing_data.toarray()\n"
      ]
    },
    {
      "cell_type": "markdown",
      "metadata": {
        "id": "Lh2GBTk9mYnG"
      },
      "source": [
        "<h1>Neural Network Creation and Development<h1>"
      ]
    },
    {
      "cell_type": "code",
      "execution_count": 24,
      "metadata": {
        "id": "XYYAeJA2mXyq"
      },
      "outputs": [
        {
          "name": "stdout",
          "output_type": "stream",
          "text": [
            "WARNING:tensorflow:From c:\\Users\\user\\Desktop\\prueba_tecnica\\venv\\lib\\site-packages\\keras\\src\\backend.py:873: The name tf.get_default_graph is deprecated. Please use tf.compat.v1.get_default_graph instead.\n",
            "\n"
          ]
        }
      ],
      "source": [
        "model = Sequential()\n",
        "\n",
        "# LAYER CREATION FOR OUR NEURAL NETWORK:\n",
        "\n",
        "# 1. Input layer (uses the size of vocabulary and input vectors size)\n",
        "model.add(Embedding(input_dim=len(count_vector.get_feature_names_out()), output_dim=64, input_length=training_data.shape[1]))\n",
        "\n",
        "# 2. Embedding output Flattening\n",
        "model.add(Flatten())\n",
        "\n",
        "# 3. Hidden layer(s)\n",
        "model.add(Dense(128, activation='relu'))\n",
        "model.add(Dense(64, activation='relu'))\n",
        "\n",
        "# 4. Output layer (Binary Classification)\n",
        "model.add(Dense(1, activation='sigmoid'))"
      ]
    },
    {
      "cell_type": "code",
      "execution_count": 25,
      "metadata": {
        "id": "_vcyaJ23nG7j"
      },
      "outputs": [
        {
          "name": "stdout",
          "output_type": "stream",
          "text": [
            "WARNING:tensorflow:From c:\\Users\\user\\Desktop\\prueba_tecnica\\venv\\lib\\site-packages\\keras\\src\\optimizers\\__init__.py:309: The name tf.train.Optimizer is deprecated. Please use tf.compat.v1.train.Optimizer instead.\n",
            "\n"
          ]
        }
      ],
      "source": [
        "# Compilation\n",
        "model.compile(optimizer='adam', loss='binary_crossentropy', metrics=['accuracy'])\n"
      ]
    },
    {
      "cell_type": "code",
      "execution_count": 26,
      "metadata": {
        "colab": {
          "base_uri": "https://localhost:8080/"
        },
        "id": "gDMMaF6_nII3",
        "outputId": "964034da-a9ae-4ee9-aad2-c0acbd06b1a0"
      },
      "outputs": [
        {
          "name": "stdout",
          "output_type": "stream",
          "text": [
            "Epoch 1/15\n",
            "WARNING:tensorflow:From c:\\Users\\user\\Desktop\\prueba_tecnica\\venv\\lib\\site-packages\\keras\\src\\utils\\tf_utils.py:492: The name tf.ragged.RaggedTensorValue is deprecated. Please use tf.compat.v1.ragged.RaggedTensorValue instead.\n",
            "\n",
            "WARNING:tensorflow:From c:\\Users\\user\\Desktop\\prueba_tecnica\\venv\\lib\\site-packages\\keras\\src\\engine\\base_layer_utils.py:384: The name tf.executing_eagerly_outside_functions is deprecated. Please use tf.compat.v1.executing_eagerly_outside_functions instead.\n",
            "\n",
            "15/15 [==============================] - 7s 397ms/step - loss: 1.9965 - accuracy: 0.5052 - val_loss: 0.7088 - val_accuracy: 0.5417\n",
            "Epoch 2/15\n",
            "15/15 [==============================] - 5s 366ms/step - loss: 0.7084 - accuracy: 0.5458 - val_loss: 0.6592 - val_accuracy: 0.5667\n",
            "Epoch 3/15\n",
            "15/15 [==============================] - 6s 369ms/step - loss: 0.6417 - accuracy: 0.6250 - val_loss: 0.6417 - val_accuracy: 0.6125\n",
            "Epoch 4/15\n",
            "15/15 [==============================] - 5s 358ms/step - loss: 0.5989 - accuracy: 0.6427 - val_loss: 0.7040 - val_accuracy: 0.4917\n",
            "Epoch 5/15\n",
            "15/15 [==============================] - 5s 356ms/step - loss: 0.4861 - accuracy: 0.7844 - val_loss: 0.5521 - val_accuracy: 0.6792\n",
            "Epoch 6/15\n",
            "15/15 [==============================] - 5s 358ms/step - loss: 0.3429 - accuracy: 0.8844 - val_loss: 0.4212 - val_accuracy: 0.8125\n",
            "Epoch 7/15\n",
            "15/15 [==============================] - 5s 357ms/step - loss: 0.2419 - accuracy: 0.9250 - val_loss: 0.3733 - val_accuracy: 0.8458\n",
            "Epoch 8/15\n",
            "15/15 [==============================] - 5s 353ms/step - loss: 0.1635 - accuracy: 0.9573 - val_loss: 0.3544 - val_accuracy: 0.8333\n",
            "Epoch 9/15\n",
            "15/15 [==============================] - 5s 349ms/step - loss: 0.1048 - accuracy: 0.9771 - val_loss: 0.3777 - val_accuracy: 0.8208\n",
            "Epoch 10/15\n",
            "15/15 [==============================] - 5s 353ms/step - loss: 0.0719 - accuracy: 0.9875 - val_loss: 0.4241 - val_accuracy: 0.8125\n",
            "Epoch 11/15\n",
            "15/15 [==============================] - 5s 349ms/step - loss: 0.0501 - accuracy: 0.9969 - val_loss: 0.3822 - val_accuracy: 0.8250\n",
            "Epoch 12/15\n",
            "15/15 [==============================] - 5s 356ms/step - loss: 0.0315 - accuracy: 1.0000 - val_loss: 0.4037 - val_accuracy: 0.8250\n",
            "Epoch 13/15\n",
            "15/15 [==============================] - 5s 344ms/step - loss: 0.0200 - accuracy: 1.0000 - val_loss: 0.4487 - val_accuracy: 0.8208\n",
            "Epoch 14/15\n",
            "15/15 [==============================] - 5s 359ms/step - loss: 0.0143 - accuracy: 1.0000 - val_loss: 0.4515 - val_accuracy: 0.8167\n",
            "Epoch 15/15\n",
            "15/15 [==============================] - 5s 360ms/step - loss: 0.0089 - accuracy: 1.0000 - val_loss: 0.4622 - val_accuracy: 0.8208\n"
          ]
        },
        {
          "data": {
            "text/plain": [
              "<keras.src.callbacks.History at 0x1f079aa7cd0>"
            ]
          },
          "execution_count": 26,
          "metadata": {},
          "output_type": "execute_result"
        }
      ],
      "source": [
        "# Model Training: 15 Epochs to optimize the cost-benefit trade-off between performance and processing of our neural network\n",
        "model.fit(X_train_dense, y_train, epochs=15, batch_size=64, validation_split=0.2)\n"
      ]
    },
    {
      "cell_type": "markdown",
      "metadata": {
        "id": "G5tpAZJCpq9x"
      },
      "source": [
        "**Model Evaluation**"
      ]
    },
    {
      "cell_type": "code",
      "execution_count": 27,
      "metadata": {
        "colab": {
          "base_uri": "https://localhost:8080/"
        },
        "id": "2I9woFIJo2Ca",
        "outputId": "0477664b-15d4-4190-d5a9-048c5b92141f"
      },
      "outputs": [
        {
          "name": "stdout",
          "output_type": "stream",
          "text": [
            "13/13 [==============================] - 0s 20ms/step - loss: 0.4592 - accuracy: 0.8450\n",
            "Test Accuracy: 0.8450000286102295\n"
          ]
        }
      ],
      "source": [
        "# Testing set Accuracy\n",
        "test_loss, test_accuracy = model.evaluate(X_test_dense, y_test)\n",
        "print(f\"Test Accuracy: {test_accuracy}\")"
      ]
    },
    {
      "cell_type": "code",
      "execution_count": 28,
      "metadata": {
        "colab": {
          "base_uri": "https://localhost:8080/",
          "height": 489
        },
        "id": "5bF3_sTfpW73",
        "outputId": "d4d33cf0-0c90-4933-fd36-b3f8dcb67d0b"
      },
      "outputs": [
        {
          "name": "stdout",
          "output_type": "stream",
          "text": [
            "13/13 [==============================] - 0s 20ms/step\n"
          ]
        },
        {
          "data": {
            "image/png": "[encoded data removed]",
            "text/plain": [
              "<Figure size 640x480 with 2 Axes>"
            ]
          },
          "metadata": {},
          "output_type": "display_data"
        }
      ],
      "source": [
        "from sklearn.metrics import confusion_matrix, classification_report\n",
        "import seaborn as sns\n",
        "import matplotlib.pyplot as plt\n",
        "\n",
        "predictions = model.predict(X_test_dense)\n",
        "predictions_binary = (predictions > 0.5).astype(int)  # Convert probabilities to binary predictions\n",
        "\n",
        "# Confusion matrix creation\n",
        "conf_matrix = confusion_matrix(y_test, predictions_binary)\n",
        "\n",
        "# Plot for the Confusion matrix\n",
        "sns.heatmap(conf_matrix, annot=True, fmt='d', cmap='Blues', xticklabels=['Predicted 0', 'Predicted 1'], yticklabels=['Actual 0', 'Actual 1'])\n",
        "plt.xlabel('Predicted Label')\n",
        "plt.ylabel('True Label')\n",
        "plt.title('Confusion Matrix')\n",
        "plt.show()"
      ]
    },
    {
      "cell_type": "code",
      "execution_count": 29,
      "metadata": {
        "colab": {
          "base_uri": "https://localhost:8080/"
        },
        "id": "J3cahJXxpoWE",
        "outputId": "d41ce185-7dd0-4d35-d845-6c02d1cdae2b"
      },
      "outputs": [
        {
          "name": "stdout",
          "output_type": "stream",
          "text": [
            "13/13 [==============================] - 0s 18ms/step\n",
            "Classification Report:\n",
            "               precision    recall  f1-score   support\n",
            "\n",
            "           0       0.83      0.86      0.85       199\n",
            "           1       0.86      0.83      0.84       201\n",
            "\n",
            "    accuracy                           0.84       400\n",
            "   macro avg       0.85      0.85      0.84       400\n",
            "weighted avg       0.85      0.84      0.84       400\n",
            "\n"
          ]
        }
      ],
      "source": [
        "from sklearn.metrics import classification_report\n",
        "\n",
        "predictions = model.predict(X_test_dense)\n",
        "predictions_binary = (predictions > 0.5).astype(int)  # Convert probabilities to binary predictions\n",
        "\n",
        "# Classification Report\n",
        "print(\"Classification Report:\\n\", classification_report(y_test, predictions_binary))"
      ]
    },
    {
      "cell_type": "code",
      "execution_count": 30,
      "metadata": {
        "id": "qlndK3HinVAe"
      },
      "outputs": [
        {
          "data": {
            "text/plain": [
              "['label_encoder.joblib']"
            ]
          },
          "execution_count": 30,
          "metadata": {},
          "output_type": "execute_result"
        }
      ],
      "source": [
        "# Saving the Model into a file\n",
        "model.save(\"lie_detection_model.h5\")\n",
        "joblib.dump(count_vector, 'count_vectorizer_nn.joblib')\n",
        "joblib.dump(label_encoder, 'label_encoder.joblib')"
      ]
    }
  ],
  "metadata": {
    "accelerator": "GPU",
    "colab": {
      "gpuType": "T4",
      "provenance": []
    },
    "kernelspec": {
      "display_name": "Python 3",
      "name": "python3"
    },
    "language_info": {
      "codemirror_mode": {
        "name": "ipython",
        "version": 3
      },
      "file_extension": ".py",
      "mimetype": "text/x-python",
      "name": "python",
      "nbconvert_exporter": "python",
      "pygments_lexer": "ipython3",
      "version": "3.9.2"
    }
  },
  "nbformat": 4,
  "nbformat_minor": 0
}
